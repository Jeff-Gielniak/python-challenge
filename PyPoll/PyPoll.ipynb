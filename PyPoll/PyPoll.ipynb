{
 "cells": [
  {
   "cell_type": "code",
   "execution_count": 8,
   "id": "d2603fcb-88bb-46cc-a208-7b3ab64f887a",
   "metadata": {},
   "outputs": [],
   "source": [
    "# Import necessary modules\n",
    "import csv\n",
    "import os\n",
    "\n",
    "# Files to load and output (update with correct file paths)\n",
    "file_to_load = os.path.join(\"Resources\", \"election_data.csv\")  # Input file path\n",
    "#file_to_output = os.path.join(\"analysis\", \"election_analysis.txt\")  # Output file path\n",
    "\n",
    "# Initialize variables to track the election data\n",
    "total_votes = 0  # Track the total number of votes cast\n",
    "\n",
    "# Define lists and dictionaries to track candidate names and vote counts\n",
    "Candidates_options =[]\n",
    "Candidates_dict ={}\n",
    "winning_total = 0\n",
    "winning_candidate = \"\"\n",
    "\n",
    "\n",
    "# Open the CSV file and process it\n",
    "with open(file_to_load) as election_data:\n",
    "    reader = csv.reader(election_data)\n",
    "\n",
    "    # Skip the header row\n",
    "    header = next(reader)\n",
    "\n",
    "    # Loop through each row of the dataset and process it\n",
    "    for row in reader:\n",
    "\n",
    "        # Print a loading indicator (for large datasets)\n",
    "        #print(\". \", end=\"\")\n",
    "\n",
    "        # Increment the total vote count for each row\n",
    "        total_votes+=1\n",
    "\n",
    "        # Get the candidate's name from the row\n",
    "        candidate_name = row[2]\n",
    "\n",
    "        # If the candidate is not already in the candidate list, add them\n",
    "        if candidate_name not in Candidates_options:\n",
    "            Candidates_options.append(candidate_name)\n",
    "            Candidates_dict[candidate_name]=0\n",
    "\n",
    "        # Add a vote to the candidate's count\n",
    "        Candidates_dict[candidate_name]+=1\n",
    "        \n",
    "for key in Candidates_dict.keys():\n",
    "    if Candidates_dict[key] > winning_total:\n",
    "        winning_candidate = key\n",
    "        winning_total = Candidates_dict[key]"
   ]
  },
  {
   "cell_type": "code",
   "execution_count": 9,
   "id": "e5ce12e0-57a1-4587-9de2-e70e0780080e",
   "metadata": {},
   "outputs": [
    {
     "data": {
      "text/plain": [
       "['Charles Casper Stockham', 'Diana DeGette', 'Raymon Anthony Doane']"
      ]
     },
     "execution_count": 9,
     "metadata": {},
     "output_type": "execute_result"
    }
   ],
   "source": [
    "Candidates_options"
   ]
  },
  {
   "cell_type": "code",
   "execution_count": 10,
   "id": "1192af07-6ab1-4f43-a2f9-1d3905541825",
   "metadata": {},
   "outputs": [
    {
     "data": {
      "text/plain": [
       "{'Charles Casper Stockham': 85213,\n",
       " 'Diana DeGette': 272892,\n",
       " 'Raymon Anthony Doane': 11606}"
      ]
     },
     "execution_count": 10,
     "metadata": {},
     "output_type": "execute_result"
    }
   ],
   "source": [
    "Candidates_dict"
   ]
  },
  {
   "cell_type": "code",
   "execution_count": 11,
   "id": "c1cc09dd-4d3f-46b1-9781-e901dfee545d",
   "metadata": {},
   "outputs": [
    {
     "data": {
      "text/plain": [
       "dict_keys(['Charles Casper Stockham', 'Diana DeGette', 'Raymon Anthony Doane'])"
      ]
     },
     "execution_count": 11,
     "metadata": {},
     "output_type": "execute_result"
    }
   ],
   "source": [
    "Candidates_dict.keys()\n"
   ]
  },
  {
   "cell_type": "code",
   "execution_count": 12,
   "id": "b61c71b7-32cc-40b3-82f1-a79e5f470856",
   "metadata": {},
   "outputs": [],
   "source": [
    "#for key in Candidates_dict.keys():\n",
    "    #if Candidates_dict[key] > winning_total:\n",
    "        #winning_candidate = key\n",
    "        #winning_total = Candidates_dict[key]"
   ]
  },
  {
   "cell_type": "code",
   "execution_count": 13,
   "id": "e3c73a85-c205-477c-8dc1-8a81545a6a21",
   "metadata": {},
   "outputs": [
    {
     "data": {
      "text/plain": [
       "'Diana DeGette'"
      ]
     },
     "execution_count": 13,
     "metadata": {},
     "output_type": "execute_result"
    }
   ],
   "source": [
    "winning_candidate"
   ]
  },
  {
   "cell_type": "code",
   "execution_count": 23,
   "id": "fc37ab01-f331-44fd-84d9-2ab9e2814e4c",
   "metadata": {},
   "outputs": [
    {
     "data": {
      "text/plain": [
       "11606"
      ]
     },
     "execution_count": 23,
     "metadata": {},
     "output_type": "execute_result"
    }
   ],
   "source": [
    "Candidates_dict [\"Raymon Anthony Doane\"]"
   ]
  },
  {
   "cell_type": "code",
   "execution_count": 24,
   "id": "0438a3fa-9666-431d-85af-1b633f7fa172",
   "metadata": {},
   "outputs": [
    {
     "data": {
      "text/plain": [
       "11606"
      ]
     },
     "execution_count": 24,
     "metadata": {},
     "output_type": "execute_result"
    }
   ],
   "source": [
    "Candidates_dict[Candidates_options[2]]"
   ]
  },
  {
   "cell_type": "code",
   "execution_count": null,
   "id": "3476ab69-de18-4e48-9c76-ad37d10b4bd3",
   "metadata": {},
   "outputs": [],
   "source": []
  }
 ],
 "metadata": {
  "kernelspec": {
   "display_name": "Python 3 (ipykernel)",
   "language": "python",
   "name": "python3"
  },
  "language_info": {
   "codemirror_mode": {
    "name": "ipython",
    "version": 3
   },
   "file_extension": ".py",
   "mimetype": "text/x-python",
   "name": "python",
   "nbconvert_exporter": "python",
   "pygments_lexer": "ipython3",
   "version": "3.10.15"
  }
 },
 "nbformat": 4,
 "nbformat_minor": 5
}
